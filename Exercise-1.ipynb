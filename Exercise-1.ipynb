{
 "cells": [
  {
   "cell_type": "code",
   "execution_count": 1,
   "metadata": {},
   "outputs": [
    {
     "name": "stdout",
     "output_type": "stream",
     "text": [
      "hello world\n"
     ]
    }
   ],
   "source": [
    "print(\"hello world\")"
   ]
  },
  {
   "cell_type": "code",
   "execution_count": 2,
   "metadata": {},
   "outputs": [],
   "source": [
    "a = 21\n",
    "b = 10\n",
    "c = 0"
   ]
  },
  {
   "cell_type": "code",
   "execution_count": 3,
   "metadata": {},
   "outputs": [
    {
     "name": "stdout",
     "output_type": "stream",
     "text": [
      "Line 1 - Value of c is 31\n"
     ]
    }
   ],
   "source": [
    "c = a+b\n",
    "print (\"Line 1 - Value of c is\")"
   ]
  },
  {
   "cell_type": "code",
   "execution_count": 4,
   "metadata": {},
   "outputs": [
    {
     "name": "stdout",
     "output_type": "stream",
     "text": [
      "Line 2 - Value of c is 52\n"
     ]
    }
   ],
   "source": [
    "c += a\n",
    "print(\"Line 2 - Value of c is\" , c)"
   ]
  },
  {
   "cell_type": "code",
   "execution_count": 6,
   "metadata": {},
   "outputs": [
    {
     "name": "stdout",
     "output_type": "stream",
     "text": [
      "Line 3 - Value of c is  22932\n"
     ]
    }
   ],
   "source": [
    "c *= a\n",
    "print(\"Line 3 - Value of c is \",c)"
   ]
  },
  {
   "cell_type": "code",
   "execution_count": 10,
   "metadata": {},
   "outputs": [
    {
     "name": "stdout",
     "output_type": "stream",
     "text": [
      "Line 4 - Value of c is 0.11791383219954649\n"
     ]
    }
   ],
   "source": [
    "c /= a\n",
    "print(\"Line 4 - Value of c is\", c)"
   ]
  },
  {
   "cell_type": "code",
   "execution_count": 12,
   "metadata": {},
   "outputs": [
    {
     "name": "stdout",
     "output_type": "stream",
     "text": [
      "Line 5 - Value of c is 2\n"
     ]
    }
   ],
   "source": [
    " c= 2 \n",
    "c %= a\n",
    "print(\"Line 5 - Value of c is\", c)"
   ]
  },
  {
   "cell_type": "code",
   "execution_count": 13,
   "metadata": {},
   "outputs": [
    {
     "name": "stdout",
     "output_type": "stream",
     "text": [
      "Line 6 - Value of c is 2097152\n"
     ]
    }
   ],
   "source": [
    "c **= a\n",
    "print(\"Line 6 - Value of c is\" , c)"
   ]
  },
  {
   "cell_type": "code",
   "execution_count": 14,
   "metadata": {},
   "outputs": [
    {
     "name": "stdout",
     "output_type": "stream",
     "text": [
      "Line 7 - Value of c is 99864\n"
     ]
    }
   ],
   "source": [
    "c //= a\n",
    "print(\"Line 7 - Value of c is\",c)"
   ]
  },
  {
   "cell_type": "code",
   "execution_count": 15,
   "metadata": {},
   "outputs": [],
   "source": [
    "a = 12\n",
    "b = 10\n"
   ]
  },
  {
   "cell_type": "code",
   "execution_count": 17,
   "metadata": {},
   "outputs": [],
   "source": [
    "b +=a"
   ]
  },
  {
   "cell_type": "code",
   "execution_count": 18,
   "metadata": {},
   "outputs": [],
   "source": [
    "a +=b\n",
    "c = a+b\n"
   ]
  },
  {
   "cell_type": "code",
   "execution_count": 19,
   "metadata": {},
   "outputs": [
    {
     "name": "stdout",
     "output_type": "stream",
     "text": [
      "Line 1 - Value of c is 80\n"
     ]
    }
   ],
   "source": [
    "print(\"Line 1 - Value of c is\" , c)"
   ]
  },
  {
   "cell_type": "code",
   "execution_count": 23,
   "metadata": {},
   "outputs": [
    {
     "name": "stdout",
     "output_type": "stream",
     "text": [
      "The Value of the Total after using a# Using Operator is: 28\n"
     ]
    }
   ],
   "source": [
    "a = 7\n",
    "Total = 21 \n",
    "Total += a\n",
    "print(\"The Value of the Total after using a# Using Operator is:\", Total)"
   ]
  },
  {
   "cell_type": "code",
   "execution_count": 24,
   "metadata": {},
   "outputs": [
    {
     "name": "stdout",
     "output_type": "stream",
     "text": [
      "The Value of the Total after using a# Using Operator is: 21\n"
     ]
    }
   ],
   "source": [
    "Total -= a\n",
    "print(\"The Value of the Total after using a# Using Operator is:\", Total)\n"
   ]
  },
  {
   "cell_type": "code",
   "execution_count": 25,
   "metadata": {},
   "outputs": [
    {
     "name": "stdout",
     "output_type": "stream",
     "text": [
      "The Value of the Total after using a# Using Operator is: 147\n"
     ]
    }
   ],
   "source": [
    "Total *= a\n",
    "print(\"The Value of the Total after using a# Using Operator is:\", Total)\n",
    "\n",
    "\n"
   ]
  },
  {
   "cell_type": "code",
   "execution_count": 26,
   "metadata": {},
   "outputs": [
    {
     "name": "stdout",
     "output_type": "stream",
     "text": [
      "The Value of the Total after using a# Using Operator is: 21\n"
     ]
    }
   ],
   "source": [
    "Total //= a\n",
    "print(\"The Value of the Total after using a# Using Operator is:\", Total)\n"
   ]
  },
  {
   "cell_type": "code",
   "execution_count": 27,
   "metadata": {},
   "outputs": [
    {
     "name": "stdout",
     "output_type": "stream",
     "text": [
      "The Value of the Total after using a# Using Operator is: 1801088541\n"
     ]
    }
   ],
   "source": [
    "Total **= a\n",
    "print(\"The Value of the Total after using a# Using Operator is:\", Total)\n"
   ]
  },
  {
   "cell_type": "code",
   "execution_count": 28,
   "metadata": {},
   "outputs": [
    {
     "name": "stdout",
     "output_type": "stream",
     "text": [
      "The Value of the Total after using a# Using Operator is: 257298363.0\n"
     ]
    }
   ],
   "source": [
    "Total /= a\n",
    "print(\"The Value of the Total after using a# Using Operator is:\", Total)\n"
   ]
  },
  {
   "cell_type": "code",
   "execution_count": 30,
   "metadata": {},
   "outputs": [
    {
     "name": "stdout",
     "output_type": "stream",
     "text": [
      "The Value of the Total after using a# Using Operator is: 0.0\n"
     ]
    }
   ],
   "source": [
    "Total %= a\n",
    "print(\"The Value of the Total after using a# Using Operator is:\", Total)\n"
   ]
  },
  {
   "cell_type": "code",
   "execution_count": null,
   "metadata": {},
   "outputs": [],
   "source": []
  }
 ],
 "metadata": {
  "kernelspec": {
   "display_name": "Python 3",
   "language": "python",
   "name": "python3"
  },
  "language_info": {
   "codemirror_mode": {
    "name": "ipython",
    "version": 3
   },
   "file_extension": ".py",
   "mimetype": "text/x-python",
   "name": "python",
   "nbconvert_exporter": "python",
   "pygments_lexer": "ipython3",
   "version": "3.8.3"
  }
 },
 "nbformat": 4,
 "nbformat_minor": 4
}
